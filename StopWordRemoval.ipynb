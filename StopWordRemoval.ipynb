{
 "cells": [
  {
   "cell_type": "markdown",
   "metadata": {},
   "source": [
    "# Identifying author\n",
    "The main purpose of this file is to identify the author of the test set using the sentences from the master file created."
   ]
  },
  {
   "cell_type": "code",
   "execution_count": 1,
   "metadata": {},
   "outputs": [],
   "source": [
    "import os\n",
    "import pandas as pd\n",
    "import numpy as np"
   ]
  },
  {
   "cell_type": "code",
   "execution_count": 2,
   "metadata": {},
   "outputs": [],
   "source": [
    "verbose = False"
   ]
  },
  {
   "cell_type": "code",
   "execution_count": 3,
   "metadata": {},
   "outputs": [],
   "source": [
    "from nltk.corpus import stopwords \n",
    "from nltk.tokenize import word_tokenize \n",
    "stop_words = set(stopwords.words('english'))\n",
    "from nltk.tokenize import RegexpTokenizer"
   ]
  },
  {
   "cell_type": "markdown",
   "metadata": {},
   "source": [
    "## dfToCsv\n",
    "This function will take in a data frame and a string representation of the file name.  It will write the data frame to file specified by the filename. ."
   ]
  },
  {
   "cell_type": "code",
   "execution_count": 4,
   "metadata": {},
   "outputs": [],
   "source": [
    "def dfToCsv(df, filename, isIndexed = False):\n",
    "    file = None\n",
    "    targetFile = os.path.join(os.getcwd(), \"data\", \"stopRemoved\", filename)\n",
    "    \n",
    "    if(os.path.exists(targetFile)):\n",
    "        file = openFile(targetFile, \"a\")\n",
    "        df.to_csv(file, header = False, index = isIndexed)\n",
    "        file.close()\n",
    "    else:\n",
    "        file = openFile(targetFile, \"a\")\n",
    "        df.to_csv(file, index = isIndexed)\n",
    "        file.close()\n",
    "    # end dfToCsv"
   ]
  },
  {
   "cell_type": "markdown",
   "metadata": {},
   "source": [
    "## openFile\n",
    "This function tries to open the file, given a file name.  It takes in two parameters:  the file name and what mode to open in, by default for this project, the mode will be set to read mode.  It will return a file. "
   ]
  },
  {
   "cell_type": "code",
   "execution_count": 5,
   "metadata": {},
   "outputs": [],
   "source": [
    "def openFile (filename, mode = \"r\"):\n",
    "        \n",
    "    try:\n",
    "        file = open(filename, mode)\n",
    "        return file\n",
    "                                        \n",
    "    except IOError:\n",
    "        print(\"An unexpected IO error occured in openFile.\")\n",
    "    except:\n",
    "        print(\"An unexpected error occured in openFile.\")\n",
    "    \n",
    "    #end textToVariable"
   ]
  },
  {
   "cell_type": "markdown",
   "metadata": {},
   "source": [
    "Load files and create empty author column in test"
   ]
  },
  {
   "cell_type": "code",
   "execution_count": 6,
   "metadata": {},
   "outputs": [],
   "source": [
    "currentPath = os.path.join(os.getcwd(), \"data\", \"\")\n",
    "train = pd.read_csv(currentPath + \"train.csv\")\n",
    "test = pd.read_csv(currentPath + \"test.csv\")\n",
    "master = pd.read_csv(currentPath + \"master.csv\", index_col = 0)\n",
    "\n"
   ]
  },
  {
   "cell_type": "code",
   "execution_count": 7,
   "metadata": {},
   "outputs": [],
   "source": [
    "for i, row in test.iterrows():\n",
    "\n",
    "    # for each row... \n",
    "    sentence = test.iloc[i][\"text\"]\n",
    "    tokenizer = RegexpTokenizer(r'\\w+')\n",
    "    word_tokens = tokenizer.tokenize(sentence)\n",
    "\n",
    "    filtered_sentence = [] \n",
    "\n",
    "    for w in word_tokens: \n",
    "        if w not in stop_words: \n",
    "            filtered_sentence.append(w) \n",
    "            \n",
    "    \n",
    "    filtered_sentence = ' '.join(word for word in filtered_sentence)\n",
    "    test.at[i, \"text\"] = filtered_sentence\n",
    "         \n",
    "    # end for over test\n",
    "    \n",
    "dfToCsv(test, \"stoppedTest.csv\")"
   ]
  },
  {
   "cell_type": "code",
   "execution_count": 8,
   "metadata": {},
   "outputs": [],
   "source": [
    "for i, row in train.iterrows():\n",
    "\n",
    "    # for each row... \n",
    "    sentence = train.iloc[i][\"text\"]\n",
    "    tokenizer = RegexpTokenizer(r'\\w+')\n",
    "    word_tokens = tokenizer.tokenize(sentence)\n",
    "\n",
    "    filtered_sentence = [] \n",
    "\n",
    "    for w in word_tokens: \n",
    "        if w not in stop_words: \n",
    "            filtered_sentence.append(w) \n",
    "            \n",
    "    \n",
    "    filtered_sentence = ' '.join(word for word in filtered_sentence)\n",
    "    train.at[i, \"text\"] = filtered_sentence\n",
    "         \n",
    "    # end for over train\n",
    "dfToCsv(train, \"stoppedTrain.csv\")"
   ]
  },
  {
   "cell_type": "code",
   "execution_count": 9,
   "metadata": {},
   "outputs": [],
   "source": [
    "for i, row in master.iterrows():\n",
    "\n",
    "    # for each row... \n",
    "    sentence = master.iloc[i][\"text\"]\n",
    "    tokenizer = RegexpTokenizer(r'\\w+')\n",
    "    word_tokens = tokenizer.tokenize(sentence)\n",
    "\n",
    "    filtered_sentence = [] \n",
    "\n",
    "    for w in word_tokens: \n",
    "        if w not in stop_words: \n",
    "            filtered_sentence.append(w) \n",
    "            \n",
    "    \n",
    "    filtered_sentence = ' '.join(word for word in filtered_sentence)\n",
    "    master.at[i, \"text\"] = filtered_sentence\n",
    "         \n",
    "    # end for over train\n",
    "dfToCsv(master, \"stoppedMaster.csv\")"
   ]
  },
  {
   "cell_type": "code",
   "execution_count": 10,
   "metadata": {},
   "outputs": [
    {
     "name": "stdout",
     "output_type": "stream",
     "text": [
      "\n",
      "counting how many rows are labeled and empty\n",
      "\n",
      "id      8392\n",
      "text    8392\n",
      "dtype: int64\n",
      "           id                                               text\n",
      "0     id02310  Still I urged leaving Ireland inquietude impat...\n",
      "1     id24541  If fire wanted fanning could readily fanned ne...\n",
      "2     id00134  And broken frail door found two cleanly picked...\n",
      "3     id27757  While I thinking I possibly manage without one...\n",
      "4     id04081                  I sure limit knowledge may extend\n",
      "5     id27337  The thick peculiar mist smoke distinguishes In...\n",
      "6     id24265                That matter unless qualities things\n",
      "7     id25917  I sought repose although I hope forgetfulness ...\n",
      "8     id04951  Upon fourth day assassination party police cam...\n",
      "9     id14549                The tone metaphysical also good one\n",
      "10    id22505  These offspring later period stood erect seeme...\n",
      "11    id24002  What kept going Brown Jenkin throne Chaos thin...\n",
      "12    id18982  Persuading widow connexion husband technical m...\n",
      "13    id15181  When I arose trembling I know much later I sta...\n",
      "14    id21888       And shores river Zaire neither quiet silence\n",
      "15    id12035                 Idris heard mother return pleasure\n",
      "16    id17991  I say proudly tears eyes firm proved basest in...\n",
      "17    id10707  But let us glance treatise Ah Ability inabilit...\n",
      "18    id07101  What place inhabit son said looking mournfully...\n",
      "19    id00345  At nod I took one latter seated upon aged disc...\n",
      "20    id05912  No one doubted mystery murder would immediatel...\n",
      "21    id13443  But although one two instances arrests made pr...\n",
      "22    id09248        Festivity even libertinism became order day\n",
      "23    id17542                           For I Iranon Prince Aira\n",
      "24    id06995  Gaze star dear generous friend I cried read lo...\n",
      "25    id25159           I serious asserting breath entirely gone\n",
      "26    id25729  The thing haunt say extermination complete ana...\n",
      "27    id26949   Before party lay portion skull used drinking cup\n",
      "28    id27191  If bred sphere life inheritance delicate frame...\n",
      "29    id07668  Or mode speech offend let say mother proud que...\n",
      "...       ...                                                ...\n",
      "8362  id22510  Then distracted thoughts sorrow comparing desp...\n",
      "8363  id19204  Upon whole whether happily unhappily thrown ba...\n",
      "8364  id05758              He allowed finish speech tranquillity\n",
      "8365  id27063  His looks wild terror spoke voice tremulous hu...\n",
      "8366  id11773  By quantity provision I consumed I guess I pas...\n",
      "8367  id11562  I hurled scoundrel vehement words Demosthenes ...\n",
      "8368  id16208  Notwithstanding hazardous object journey full ...\n",
      "8369  id04036  I felt greatest eagerness hear promised narrat...\n",
      "8370  id26159  But expression countenance beaming smiles stil...\n",
      "8371  id26777          Its decorations rich yet tattered antique\n",
      "8372  id08501                  He directed attention object wall\n",
      "8373  id11216  Hey Haow ye like hear haowlin night arter nigh...\n",
      "8374  id03410   She buried vault ordinary grave village nativity\n",
      "8375  id04537  In company sprightly clever Greek girl Countes...\n",
      "8376  id26628  In unnerved pitiable condition I feel period s...\n",
      "8377  id01586  He scoundrel I blame giving cast aside coffin ...\n",
      "8378  id13421  But I dwell upon incidents followed last overw...\n",
      "8379  id26084  In streets spears long grass window panes eith...\n",
      "8380  id05375  When I first sought love virtue feelings happi...\n",
      "8381  id23212  But matters beyond limits mere rule skill anal...\n",
      "8382  id15980       I may say excellently well constructed house\n",
      "8383  id11719  Across covered bridge one sees small village h...\n",
      "8384  id13109  You cannot take common newspaper shall see all...\n",
      "8385  id07156  Consoling reflection I mentally repeating pass...\n",
      "8386  id04893  Yet laughed merry proper way hysterical sang s...\n",
      "8387  id11749                                 All fitter purpose\n",
      "8388  id10526                              I fixed wide solitude\n",
      "8389  id13477  It easily understood might improve closely scr...\n",
      "8390  id13761  Be may I began feel inspiration burning hope l...\n",
      "8391  id04282  Long winded statistical drearily genealogical ...\n",
      "\n",
      "[8392 rows x 2 columns]\n",
      "dropped n/a\n",
      "           id                                               text\n",
      "0     id02310  Still I urged leaving Ireland inquietude impat...\n",
      "1     id24541  If fire wanted fanning could readily fanned ne...\n",
      "2     id00134  And broken frail door found two cleanly picked...\n",
      "3     id27757  While I thinking I possibly manage without one...\n",
      "4     id04081                  I sure limit knowledge may extend\n",
      "5     id27337  The thick peculiar mist smoke distinguishes In...\n",
      "6     id24265                That matter unless qualities things\n",
      "7     id25917  I sought repose although I hope forgetfulness ...\n",
      "8     id04951  Upon fourth day assassination party police cam...\n",
      "9     id14549                The tone metaphysical also good one\n",
      "10    id22505  These offspring later period stood erect seeme...\n",
      "11    id24002  What kept going Brown Jenkin throne Chaos thin...\n",
      "12    id18982  Persuading widow connexion husband technical m...\n",
      "13    id15181  When I arose trembling I know much later I sta...\n",
      "14    id21888       And shores river Zaire neither quiet silence\n",
      "15    id12035                 Idris heard mother return pleasure\n",
      "16    id17991  I say proudly tears eyes firm proved basest in...\n",
      "17    id10707  But let us glance treatise Ah Ability inabilit...\n",
      "18    id07101  What place inhabit son said looking mournfully...\n",
      "19    id00345  At nod I took one latter seated upon aged disc...\n",
      "20    id05912  No one doubted mystery murder would immediatel...\n",
      "21    id13443  But although one two instances arrests made pr...\n",
      "22    id09248        Festivity even libertinism became order day\n",
      "23    id17542                           For I Iranon Prince Aira\n",
      "24    id06995  Gaze star dear generous friend I cried read lo...\n",
      "25    id25159           I serious asserting breath entirely gone\n",
      "26    id25729  The thing haunt say extermination complete ana...\n",
      "27    id26949   Before party lay portion skull used drinking cup\n",
      "28    id27191  If bred sphere life inheritance delicate frame...\n",
      "29    id07668  Or mode speech offend let say mother proud que...\n",
      "...       ...                                                ...\n",
      "8362  id22510  Then distracted thoughts sorrow comparing desp...\n",
      "8363  id19204  Upon whole whether happily unhappily thrown ba...\n",
      "8364  id05758              He allowed finish speech tranquillity\n",
      "8365  id27063  His looks wild terror spoke voice tremulous hu...\n",
      "8366  id11773  By quantity provision I consumed I guess I pas...\n",
      "8367  id11562  I hurled scoundrel vehement words Demosthenes ...\n",
      "8368  id16208  Notwithstanding hazardous object journey full ...\n",
      "8369  id04036  I felt greatest eagerness hear promised narrat...\n",
      "8370  id26159  But expression countenance beaming smiles stil...\n",
      "8371  id26777          Its decorations rich yet tattered antique\n",
      "8372  id08501                  He directed attention object wall\n",
      "8373  id11216  Hey Haow ye like hear haowlin night arter nigh...\n",
      "8374  id03410   She buried vault ordinary grave village nativity\n",
      "8375  id04537  In company sprightly clever Greek girl Countes...\n",
      "8376  id26628  In unnerved pitiable condition I feel period s...\n",
      "8377  id01586  He scoundrel I blame giving cast aside coffin ...\n",
      "8378  id13421  But I dwell upon incidents followed last overw...\n",
      "8379  id26084  In streets spears long grass window panes eith...\n",
      "8380  id05375  When I first sought love virtue feelings happi...\n",
      "8381  id23212  But matters beyond limits mere rule skill anal...\n",
      "8382  id15980       I may say excellently well constructed house\n",
      "8383  id11719  Across covered bridge one sees small village h...\n",
      "8384  id13109  You cannot take common newspaper shall see all...\n",
      "8385  id07156  Consoling reflection I mentally repeating pass...\n",
      "8386  id04893  Yet laughed merry proper way hysterical sang s...\n",
      "8387  id11749                                 All fitter purpose\n",
      "8388  id10526                              I fixed wide solitude\n",
      "8389  id13477  It easily understood might improve closely scr...\n",
      "8390  id13761  Be may I began feel inspiration burning hope l...\n",
      "8391  id04282  Long winded statistical drearily genealogical ...\n",
      "\n",
      "[8392 rows x 2 columns]\n"
     ]
    }
   ],
   "source": [
    "print(\"\\ncounting how many rows are labeled and empty\\n\")\n",
    "\n",
    "print(test.count())\n",
    "labeledTest = test.copy()\n",
    "print(labeledTest)\n",
    "\n",
    "# labeledTest.dropna()\n",
    "# labeledTest.mask(labeledTest.eq(\"None\")).dropna()\n",
    "labeledTest[labeledTest.astype(str).ne(\"None\").all(1)]\n",
    "\n",
    "if(verbose):\n",
    "    print(\"dropped n/a\")\n",
    "    print(labeledTest)\n"
   ]
  },
  {
   "cell_type": "code",
   "execution_count": 11,
   "metadata": {},
   "outputs": [],
   "source": [
    "dfToCsv(labeledTest, \"FullStopLabeled.csv\")"
   ]
  },
  {
   "cell_type": "markdown",
   "metadata": {},
   "source": [
    "Removing rows that don't have something in the author column. "
   ]
  },
  {
   "cell_type": "code",
   "execution_count": 12,
   "metadata": {},
   "outputs": [],
   "source": [
    "labeledTest.isna()\n",
    "droppedLabel = labeledTest.dropna()\n"
   ]
  },
  {
   "cell_type": "code",
   "execution_count": 13,
   "metadata": {},
   "outputs": [],
   "source": [
    "dfToCsv(droppedLabel, \"DroppedStopLabeled.csv\")"
   ]
  },
  {
   "cell_type": "markdown",
   "metadata": {},
   "source": [
    "To-do:\n",
    "* ~~load test~~\n",
    "* ~~load master~~\n",
    "* ~~create column~~\n",
    "* ~~iterate through test~~\n",
    "    * search for exact match of text\n",
    "    * add author to entry\n",
    "* Check how many are unidentified\n",
    "* Write identified entries to .csv file\n"
   ]
  }
 ],
 "metadata": {
  "kernelspec": {
   "display_name": "Python 3",
   "language": "python",
   "name": "python3"
  },
  "language_info": {
   "codemirror_mode": {
    "name": "ipython",
    "version": 3
   },
   "file_extension": ".py",
   "mimetype": "text/x-python",
   "name": "python",
   "nbconvert_exporter": "python",
   "pygments_lexer": "ipython3",
   "version": "3.6.7"
  }
 },
 "nbformat": 4,
 "nbformat_minor": 2
}
