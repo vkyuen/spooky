{
 "cells": [
  {
   "cell_type": "markdown",
   "metadata": {},
   "source": [
    "# Identifying author\n",
    "The main purpose of this file is to identify the author of the test set using the sentences from the master file created."
   ]
  },
  {
   "cell_type": "code",
   "execution_count": null,
   "metadata": {},
   "outputs": [],
   "source": [
    "import os\n",
    "import pandas as pd\n",
    "import numpy as np"
   ]
  },
  {
   "cell_type": "code",
   "execution_count": null,
   "metadata": {},
   "outputs": [],
   "source": [
    "verbose = False"
   ]
  },
  {
   "cell_type": "markdown",
   "metadata": {},
   "source": [
    "Load files and create empty author column in test"
   ]
  },
  {
   "cell_type": "code",
   "execution_count": null,
   "metadata": {},
   "outputs": [],
   "source": [
    "currentPath = os.path.join(os.getcwd(), \"data\", \"\")\n",
    "test = pd.read_csv(currentPath + \"test.csv\")\n",
    "master = pd.read_csv(currentPath + \"master.csv\", index_col = 0)\n",
    "\n",
    "test[\"author\"] = None"
   ]
  },
  {
   "cell_type": "markdown",
   "metadata": {},
   "source": [
    "Brute force method that takes about 10 minutes."
   ]
  },
  {
   "cell_type": "code",
   "execution_count": null,
   "metadata": {},
   "outputs": [],
   "source": [
    "for i, row in test.iterrows():\n",
    "\n",
    "    # for each row... \n",
    "    current = test.iloc[i]\n",
    "    result = master[master[\"text\"].str.match(current[\"text\"])]\n",
    "    countOfResult = result[\"text\"].count()\n",
    "    \n",
    "    if(countOfResult == 1):\n",
    "        author = result.iloc[0][\"author\"]\n",
    "        test.at[i, \"author\"] = author\n",
    "    elif (countOfResult == 0):\n",
    "        if(verbose):\n",
    "            print(\"\\ntext not in master\\n\")\n",
    "    else:\n",
    "        print(\"\\nMore than one match\\n\")\n",
    "            \n",
    "    \n",
    "    if(verbose):\n",
    "        print(test.iloc[i])\n",
    "         \n",
    "    # end for over test"
   ]
  },
  {
   "cell_type": "code",
   "execution_count": null,
   "metadata": {},
   "outputs": [],
   "source": [
    "print(\"\\ncounting how many rows are labeled and empty\\n\")\n",
    "\n",
    "print(test.count())\n",
    "labeledTest = test.copy()\n",
    "print(labeledTest)\n",
    "\n",
    "dfToCsv(labeledTest, \"fullLabeledTest.csv\")\n",
    "\n",
    "print(\"dropped n/a\")\n",
    "labeledTest[labeledTest.astype(str).ne(\"None\").all(1)]\n",
    "print(labeledTest)\n"
   ]
  },
  {
   "cell_type": "markdown",
   "metadata": {},
   "source": [
    "Removing rows that don't have something in the author column. "
   ]
  },
  {
   "cell_type": "code",
   "execution_count": null,
   "metadata": {},
   "outputs": [],
   "source": [
    "labeledTest.isna()\n",
    "droppedLabel = labeledTest.dropna()\n"
   ]
  },
  {
   "cell_type": "code",
   "execution_count": null,
   "metadata": {},
   "outputs": [],
   "source": [
    "dfToCsv(droppedLabel, \"labeledTest.csv\")"
   ]
  },
  {
   "cell_type": "markdown",
   "metadata": {},
   "source": [
    "## dfToCsv\n",
    "This function will take in a data frame and a string representation of the file name.  It will write the data frame to file specified by the filename. ."
   ]
  },
  {
   "cell_type": "code",
   "execution_count": null,
   "metadata": {},
   "outputs": [],
   "source": [
    "def dfToCsv(df, filename, isIndexed = False):\n",
    "    file = None\n",
    "    targetFile = os.path.join(os.getcwd(), \"data\", filename)\n",
    "    \n",
    "    if(os.path.exists(targetFile)):\n",
    "        file = openFile(targetFile, \"a\")\n",
    "        df.to_csv(file, header = False, index = isIndexed)\n",
    "        file.close()\n",
    "    else:\n",
    "        file = openFile(targetFile, \"a\")\n",
    "        df.to_csv(file, index = isIndexed)\n",
    "        file.close()\n",
    "    # end dfToCsv"
   ]
  },
  {
   "cell_type": "markdown",
   "metadata": {},
   "source": [
    "## openFile\n",
    "This function tries to open the file, given a file name.  It takes in two parameters:  the file name and what mode to open in, by default for this project, the mode will be set to read mode.  It will return a file. "
   ]
  },
  {
   "cell_type": "code",
   "execution_count": null,
   "metadata": {},
   "outputs": [],
   "source": [
    "def openFile (filename, mode = \"r\"):\n",
    "        \n",
    "    try:\n",
    "        file = open(filename, mode)\n",
    "        return file\n",
    "                                        \n",
    "    except IOError:\n",
    "        print(\"An unexpected IO error occured in openFile.\")\n",
    "    except:\n",
    "        print(\"An unexpected error occured in openFile.\")\n",
    "    \n",
    "    #end textToVariable"
   ]
  }
 ],
 "metadata": {
  "kernelspec": {
   "display_name": "Python 3",
   "language": "python",
   "name": "python3"
  },
  "language_info": {
   "codemirror_mode": {
    "name": "ipython",
    "version": 3
   },
   "file_extension": ".py",
   "mimetype": "text/x-python",
   "name": "python",
   "nbconvert_exporter": "python",
   "pygments_lexer": "ipython3",
   "version": "3.6.7"
  }
 },
 "nbformat": 4,
 "nbformat_minor": 2
}
