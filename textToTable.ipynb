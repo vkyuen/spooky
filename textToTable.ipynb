{
 "cells": [
  {
   "cell_type": "markdown",
   "metadata": {},
   "source": [
    "# Converting texts into CSV files.\n",
    "This file is responsible for taking .txt files of the story and splitting them into seperate sentences.  To remove labels, manually, the header of the file will be removed.  For each sentence found, sentences with 2 or fewer words will be reomved.  Assuming it will lines like 'Chapter II'.  And removing all whitespace that is not a space. "
   ]
  },
  {
   "cell_type": "code",
   "execution_count": 1,
   "metadata": {},
   "outputs": [],
   "source": [
    "import nltk.data\n",
    "import pandas as pd\n",
    "import os\n",
    "import glob\n",
    "\n",
    "sent_dector = nltk.data.load('tokenizers/punkt/english.pickle')"
   ]
  },
  {
   "cell_type": "code",
   "execution_count": 2,
   "metadata": {},
   "outputs": [],
   "source": [
    "isTesting = True"
   ]
  },
  {
   "cell_type": "markdown",
   "metadata": {},
   "source": [
    "## openFile\n",
    "This function tries to open the file, given a file name.  It takes in two parameters:  the file name and what mode to open in, by default for this project, the mode will be set to read mode.  It will return a file. "
   ]
  },
  {
   "cell_type": "code",
   "execution_count": 3,
   "metadata": {},
   "outputs": [],
   "source": [
    "def openFile (filename, mode = \"r\"):\n",
    "    if(isTesting):\n",
    "        print(\"openFile: \", filename,\"\\n\")\n",
    "        \n",
    "    try:\n",
    "        file = open(filename, mode)\n",
    "        return file\n",
    "                                        \n",
    "    except IOError:\n",
    "        print(\"An unexpected IO error occured in openFile.\")\n",
    "    except:\n",
    "        print(\"An unexpected error occured in openFile.\")\n",
    "    \n",
    "    #end textToVariable"
   ]
  },
  {
   "cell_type": "markdown",
   "metadata": {},
   "source": [
    "## fileToLines\n",
    "This function will take in the opened file and return a the text from the file as a single string. Replacing line breaks with spaces, and removing multiple spaces.  "
   ]
  },
  {
   "cell_type": "code",
   "execution_count": 4,
   "metadata": {},
   "outputs": [],
   "source": [
    "def fileToLines(file):\n",
    "    lines = file.read().replace(\"\\n\", \" \")\n",
    "    \" \".join(lines.split())\n",
    "    file.close()\n",
    "    return lines\n",
    "    #end fileToLines"
   ]
  },
  {
   "cell_type": "code",
   "execution_count": 5,
   "metadata": {},
   "outputs": [],
   "source": [
    "# # reference!\n",
    "# def openFile (filename, mode = \"r\"):\n",
    "#     if(isTesting):\n",
    "#         print(\"openFile: \", filename,\"\\n\")\n",
    "#     lines = None\n",
    "    \n",
    "#     try:\n",
    "#         with open(filename, mode) as file:\n",
    "#             lines = file.read().replace('\\n', ' ')\n",
    "                                        \n",
    "#     except IOError:\n",
    "#         print(\"An unexpected IO error occured in openFile.\")\n",
    "#     except:\n",
    "#         print(\"An unexpected error occured in openFile.\")\n",
    "    \n",
    "#     return lines\n",
    "#     #end textToVariable"
   ]
  },
  {
   "cell_type": "markdown",
   "metadata": {},
   "source": [
    "## splitBySentence\n",
    "This function will take a string and return a list of the string split into sentence. Removing the leading and trailing spaces. "
   ]
  },
  {
   "cell_type": "code",
   "execution_count": 6,
   "metadata": {},
   "outputs": [],
   "source": [
    "def splitBySentence(lines):\n",
    "    if(isTesting):\n",
    "        print(\"\\nin  splitBySentence\\n\")\n",
    "    tokens = sent_dector.tokenize(lines.strip())\n",
    "    \n",
    "    return tokens\n",
    "    #end splitBySentence"
   ]
  },
  {
   "cell_type": "markdown",
   "metadata": {},
   "source": [
    "## listToDf\n",
    "This function will take in a list of tokens and put it into a pandas data frame and append the list of tokens to the original data frame. Returning the original data frame with the new text appended."
   ]
  },
  {
   "cell_type": "code",
   "execution_count": 7,
   "metadata": {},
   "outputs": [],
   "source": [
    "def listToDf(tokens, original):\n",
    "    if(isTesting):\n",
    "        print(\"\\nin listToDf \\n\")\n",
    "    df = pd.DataFrame(tokens)\n",
    "    df.columns = [\"text\"]\n",
    "    \n",
    "    if(original.empty):\n",
    "        original = df\n",
    "    else:\n",
    "        original.append(df, ignore_index = True)\n",
    "        \n",
    "        \n",
    "    return original\n",
    "    #listToDf"
   ]
  },
  {
   "cell_type": "markdown",
   "metadata": {},
   "source": [
    "## removeShort\n",
    "This function will take in a data frame, and will remove sentences with the minimum number of words in the text field.  The variable min is set to 3 by default, unless the function is called with a different value specified. It will return the data frame.  This is done to help remove chapter labels.  "
   ]
  },
  {
   "cell_type": "code",
   "execution_count": 8,
   "metadata": {},
   "outputs": [],
   "source": [
    "def removeShort(dataFrame, min = 3):\n",
    "    \n",
    "    if(isTesting):\n",
    "        print(\"\\nin removeShort\\n\")\n",
    "        print(dataFrame)\n",
    "    \n",
    "    count = dataFrame[\"text\"].str.split().str.len()\n",
    "    ~(count == min)\n",
    "    if(isTesting):\n",
    "        print(\"count is: \\n\", count)\n",
    "    \n",
    "    dropped = dataFrame[~(count <= min)].copy()\n",
    "    dropped = dropped.reset_index(drop = True)\n",
    "    if(isTesting):\n",
    "        print(\"\\nafter dropped\")\n",
    "        print(dropped)\n",
    "        \n",
    "    return dropped\n",
    "    # end removeShort"
   ]
  },
  {
   "cell_type": "code",
   "execution_count": 9,
   "metadata": {},
   "outputs": [],
   "source": [
    "# if(isTesting):\n",
    "#     data = pd.DataFrame({'text': ['hello my name is','hey', 'hello world', 'help me please!']})\n",
    "#     removeShort(data)"
   ]
  },
  {
   "cell_type": "markdown",
   "metadata": {},
   "source": [
    "## addAuthor\n",
    "This function will take in a data frame and the string representation of the author, in this project MWS, EAP, HPL.  It will return a dataframe with an additional autorh "
   ]
  },
  {
   "cell_type": "code",
   "execution_count": 10,
   "metadata": {},
   "outputs": [],
   "source": [
    "def addAuthor(df, author):\n",
    "    if(isTesting):\n",
    "        print(\"\\n \\n\")\n",
    "    df[\"author\"] = author\n",
    "    return df\n",
    "    # end addAuthor"
   ]
  },
  {
   "cell_type": "markdown",
   "metadata": {},
   "source": [
    "## dfToCsv\n",
    "This function will take in a data frame and a string representation of the file name.  It will write the data frame to file specified by the filename. ."
   ]
  },
  {
   "cell_type": "code",
   "execution_count": 18,
   "metadata": {},
   "outputs": [],
   "source": [
    "def dfToCsv(df, filename):\n",
    "    if(isTesting):\n",
    "        print(\"\\nin difToCsv \\n\")\n",
    "    file = None\n",
    "    targetFile = os.path.join(os.getcwd(), \"data\", filename)\n",
    "    \n",
    "    if(isTesting):\n",
    "        print(\"targetFile: \", targetFile)\n",
    "    \n",
    "    if(os.path.exists(targetFile)):\n",
    "        file = openFile(targetFile, \"a\")\n",
    "        df.to_csv(file, header = False)\n",
    "        file.close()\n",
    "    else:\n",
    "        file = openFile(targetFile, \"a+\")\n",
    "        df.to_csv(file)\n",
    "        file.close()\n",
    "    # end dfToCsv"
   ]
  },
  {
   "cell_type": "markdown",
   "metadata": {},
   "source": [
    "## readAndCreate\n",
    "This function will prompt the use through the process of reading in a .txt file and saving it as a .csv file. Assuming the .txt files are located in data/Books/[author initial] "
   ]
  },
  {
   "cell_type": "code",
   "execution_count": 12,
   "metadata": {},
   "outputs": [],
   "source": [
    "def readAndCreate():\n",
    "    if(isTesting):\n",
    "        print(\"\\nin readAndCreate\\n\")\n",
    "        \n",
    "    currentDf = pd.DataFrame()\n",
    "    \n",
    "    # get folder name\n",
    "    print(\"Enter author's name (MWS, EAP, HPL)\")\n",
    "    author = input()\n",
    "    \n",
    "    folderPath = os.path.join(os.getcwd(), \"data\", \"Books\", author)\n",
    "    \n",
    "    #setup loop to go through files\n",
    "    #for filename in os.listdir(folderPath):\n",
    "    for filename in glob.glob(os.path.join(folderPath, '*.txt')):\n",
    "        #open file\n",
    "        currentFile = openFile(filename)\n",
    "        #create string of text\n",
    "        lines = fileToLines(currentFile)\n",
    "        #tokenize string\n",
    "        tokens = splitBySentence(lines)\n",
    "        #list -> df\n",
    "        currentDf = listToDf(tokens, currentDf)\n",
    "        #end filename loop\n",
    "    \n",
    "    #done with all files\n",
    "    #delete short sentences\n",
    "    currentDf = removeShort(currentDf)\n",
    "    #label author\n",
    "    addAuthor(currentDf, author)\n",
    "    #write to csv\n",
    "    csvName = author + \".csv\"\n",
    "    dfToCsv(currentDf, csvName)\n",
    "    \n",
    "    "
   ]
  },
  {
   "cell_type": "markdown",
   "metadata": {},
   "source": [
    "## printMenuOptions\n",
    "This function will print out the menu options."
   ]
  },
  {
   "cell_type": "code",
   "execution_count": 13,
   "metadata": {},
   "outputs": [],
   "source": [
    "def printMenuOptions():\n",
    "    print(\"0 - Exit program\")\n",
    "    print(\"1 - Read .txt file and save to .csv for folder\")\n",
    "    # print(\"2 - Read file - specify folder path\")\n",
    "    print(\"3 - Combine .csv files\")\n",
    "    # end printMenuOptions"
   ]
  },
  {
   "cell_type": "markdown",
   "metadata": {},
   "source": [
    "## menu\n",
    "This function starts the converting process.  It will display menus, and allow the user to specify which files to convert into .csv files.  It also gives users the ability to combine different csv fies "
   ]
  },
  {
   "cell_type": "code",
   "execution_count": 19,
   "metadata": {},
   "outputs": [
    {
     "name": "stdout",
     "output_type": "stream",
     "text": [
      "Make a selection:\n"
     ]
    },
    {
     "name": "stdin",
     "output_type": "stream",
     "text": [
      " 1\n"
     ]
    },
    {
     "name": "stdout",
     "output_type": "stream",
     "text": [
      "\n",
      "in readAndCreate\n",
      "\n",
      "Enter author's name (MWS, EAP, HPL)\n"
     ]
    },
    {
     "name": "stdin",
     "output_type": "stream",
     "text": [
      " MWS\n"
     ]
    },
    {
     "name": "stdout",
     "output_type": "stream",
     "text": [
      "openFile:  /Users/veronica/Documents/SearchEngines/SpookyAuthor/SA/CSC849_SpookyAuthor/data/Books/MWS/Frankenstein.txt \n",
      "\n",
      "\n",
      "in  splitBySentence\n",
      "\n",
      "\n",
      "in listToDf \n",
      "\n",
      "\n",
      "in removeShort\n",
      "\n",
      "                                                   text\n",
      "0     Letter 1  _To Mrs. Saville, England._   St. Pe...\n",
      "1     You will rejoice to hear that no disaster has ...\n",
      "2     I arrived here yesterday, and my first task is...\n",
      "3     I am already far north of London, and as I wal...\n",
      "4                       Do you understand this feeling?\n",
      "5     This breeze, which has travelled from the regi...\n",
      "6     Inspirited by this wind of promise, my daydrea...\n",
      "7     I try in vain to be persuaded that the pole is...\n",
      "8     There, Margaret, the sun is for ever visible, ...\n",
      "9     There—for with your leave, my sister, I will p...\n",
      "10    Its productions and features may be without ex...\n",
      "11    What may not be expected in a country of etern...\n",
      "12    I may there discover the wondrous power which ...\n",
      "13    I shall satiate my ardent curiosity with the s...\n",
      "14    These are my enticements, and they are suffici...\n",
      "15    But supposing all these conjectures to be fals...\n",
      "16    These reflections have dispelled the agitation...\n",
      "17    This expedition has been the favourite dream o...\n",
      "18    I have read with ardour the accounts of the va...\n",
      "19    You may remember that a history of all the voy...\n",
      "20    My education was neglected, yet I was passiona...\n",
      "21    These volumes were my study day and night, and...\n",
      "22    These visions faded when I perused, for the fi...\n",
      "23    I also became a poet and for one year lived in...\n",
      "24    You are well acquainted with my failure and ho...\n",
      "25    But just at that time I inherited the fortune ...\n",
      "26    Six years have passed since I resolved on my p...\n",
      "27    I can, even now, remember the hour from which ...\n",
      "28          I commenced by inuring my body to hardship.\n",
      "29    I accompanied the whale-fishers on several exp...\n",
      "...                                                 ...\n",
      "3045  I have murdered the lovely and the helpless; I...\n",
      "3046  I have devoted my creator, the select specimen...\n",
      "3047            There he lies, white and cold in death.\n",
      "3048  You hate me, but your abhorrence cannot equal ...\n",
      "3049  I look on the hands which executed the deed; I...\n",
      "3050  “Fear not that I shall be the instrument of fu...\n",
      "3051                        My work is nearly complete.\n",
      "3052  Neither yours nor any man’s death is needed to...\n",
      "3053  Do not think that I shall be slow to perform t...\n",
      "3054  I shall quit your vessel on the ice raft which...\n",
      "3055                                       I shall die.\n",
      "3056  I shall no longer feel the agonies which now c...\n",
      "3057  He is dead who called me into being; and when ...\n",
      "3058  I shall no longer see the sun or stars or feel...\n",
      "3059  Light, feeling, and sense will pass away; and ...\n",
      "3060  Some years ago, when the images which this wor...\n",
      "3061  Polluted by crimes and torn by the bitterest r...\n",
      "3062                                         “Farewell!\n",
      "3063  I leave you, and in you the last of humankind ...\n",
      "3064                            Farewell, Frankenstein!\n",
      "3065  If thou wert yet alive and yet cherished a des...\n",
      "3066  But it was not so; thou didst seek my extincti...\n",
      "3067  Blasted as thou wert, my agony was still super...\n",
      "3068  “But soon,” he cried with sad and solemn enthu...\n",
      "3069       Soon these burning miseries will be extinct.\n",
      "3070  I shall ascend my funeral pile triumphantly an...\n",
      "3071  The light of that conflagration will fade away...\n",
      "3072  My spirit will sleep in peace, or if it thinks...\n",
      "3073  Farewell.”  He sprang from the cabin-window as...\n",
      "3074  He was soon borne away by the waves and lost i...\n",
      "\n",
      "[3075 rows x 1 columns]\n",
      "count is: \n",
      " 0       11\n",
      "1       23\n",
      "2       26\n",
      "3       35\n",
      "4        5\n",
      "5       21\n",
      "6       13\n",
      "7       31\n",
      "8       20\n",
      "9       46\n",
      "10      21\n",
      "11      11\n",
      "12      31\n",
      "13      31\n",
      "14      51\n",
      "15      68\n",
      "16      49\n",
      "17      11\n",
      "18      32\n",
      "19      24\n",
      "20      11\n",
      "21      43\n",
      "22      22\n",
      "23      38\n",
      "24      14\n",
      "25      24\n",
      "26      11\n",
      "27      16\n",
      "28       8\n",
      "29      62\n",
      "        ..\n",
      "3045    31\n",
      "3046    30\n",
      "3047     8\n",
      "3048    14\n",
      "3049    43\n",
      "3050    11\n",
      "3051     5\n",
      "3052    27\n",
      "3053    12\n",
      "3054    58\n",
      "3055     3\n",
      "3056    20\n",
      "3057    24\n",
      "3058    17\n",
      "3059    16\n",
      "3060    53\n",
      "3061    17\n",
      "3062     1\n",
      "3063    16\n",
      "3064     2\n",
      "3065    26\n",
      "3066    48\n",
      "3067    32\n",
      "3068    21\n",
      "3069     7\n",
      "3070    16\n",
      "3071    19\n",
      "3072    16\n",
      "3073    20\n",
      "3074    14\n",
      "Name: text, Length: 3075, dtype: int64\n",
      "\n",
      "after dropped\n",
      "                                                   text\n",
      "0     Letter 1  _To Mrs. Saville, England._   St. Pe...\n",
      "1     You will rejoice to hear that no disaster has ...\n",
      "2     I arrived here yesterday, and my first task is...\n",
      "3     I am already far north of London, and as I wal...\n",
      "4                       Do you understand this feeling?\n",
      "5     This breeze, which has travelled from the regi...\n",
      "6     Inspirited by this wind of promise, my daydrea...\n",
      "7     I try in vain to be persuaded that the pole is...\n",
      "8     There, Margaret, the sun is for ever visible, ...\n",
      "9     There—for with your leave, my sister, I will p...\n",
      "10    Its productions and features may be without ex...\n",
      "11    What may not be expected in a country of etern...\n",
      "12    I may there discover the wondrous power which ...\n",
      "13    I shall satiate my ardent curiosity with the s...\n",
      "14    These are my enticements, and they are suffici...\n",
      "15    But supposing all these conjectures to be fals...\n",
      "16    These reflections have dispelled the agitation...\n",
      "17    This expedition has been the favourite dream o...\n",
      "18    I have read with ardour the accounts of the va...\n",
      "19    You may remember that a history of all the voy...\n",
      "20    My education was neglected, yet I was passiona...\n",
      "21    These volumes were my study day and night, and...\n",
      "22    These visions faded when I perused, for the fi...\n",
      "23    I also became a poet and for one year lived in...\n",
      "24    You are well acquainted with my failure and ho...\n",
      "25    But just at that time I inherited the fortune ...\n",
      "26    Six years have passed since I resolved on my p...\n",
      "27    I can, even now, remember the hour from which ...\n",
      "28          I commenced by inuring my body to hardship.\n",
      "29    I accompanied the whale-fishers on several exp...\n",
      "...                                                 ...\n",
      "2934  I, the miserable and the abandoned, am an abor...\n",
      "2935  Even now my blood boils at the recollection of...\n",
      "2936                “But it is true that I am a wretch.\n",
      "2937  I have murdered the lovely and the helpless; I...\n",
      "2938  I have devoted my creator, the select specimen...\n",
      "2939            There he lies, white and cold in death.\n",
      "2940  You hate me, but your abhorrence cannot equal ...\n",
      "2941  I look on the hands which executed the deed; I...\n",
      "2942  “Fear not that I shall be the instrument of fu...\n",
      "2943                        My work is nearly complete.\n",
      "2944  Neither yours nor any man’s death is needed to...\n",
      "2945  Do not think that I shall be slow to perform t...\n",
      "2946  I shall quit your vessel on the ice raft which...\n",
      "2947  I shall no longer feel the agonies which now c...\n",
      "2948  He is dead who called me into being; and when ...\n",
      "2949  I shall no longer see the sun or stars or feel...\n",
      "2950  Light, feeling, and sense will pass away; and ...\n",
      "2951  Some years ago, when the images which this wor...\n",
      "2952  Polluted by crimes and torn by the bitterest r...\n",
      "2953  I leave you, and in you the last of humankind ...\n",
      "2954  If thou wert yet alive and yet cherished a des...\n",
      "2955  But it was not so; thou didst seek my extincti...\n",
      "2956  Blasted as thou wert, my agony was still super...\n",
      "2957  “But soon,” he cried with sad and solemn enthu...\n",
      "2958       Soon these burning miseries will be extinct.\n",
      "2959  I shall ascend my funeral pile triumphantly an...\n",
      "2960  The light of that conflagration will fade away...\n",
      "2961  My spirit will sleep in peace, or if it thinks...\n",
      "2962  Farewell.”  He sprang from the cabin-window as...\n",
      "2963  He was soon borne away by the waves and lost i...\n",
      "\n",
      "[2964 rows x 1 columns]\n",
      "\n",
      " \n",
      "\n",
      "\n",
      "in difToCsv \n",
      "\n",
      "targetFile:  /Users/veronica/Documents/SearchEngines/SpookyAuthor/SA/CSC849_SpookyAuthor/data/MWS.csv\n",
      "openFile:  /Users/veronica/Documents/SearchEngines/SpookyAuthor/SA/CSC849_SpookyAuthor/data/MWS.csv \n",
      "\n",
      "Make a selection:\n"
     ]
    },
    {
     "name": "stdin",
     "output_type": "stream",
     "text": [
      " 0\n"
     ]
    },
    {
     "name": "stdout",
     "output_type": "stream",
     "text": [
      "Ending program\n"
     ]
    }
   ],
   "source": [
    "def menu():\n",
    "    choice = 9\n",
    "    \n",
    "    while choice != 0:\n",
    "        print(\"Make a selection:\")\n",
    "        choice = input()\n",
    "        choice = int(choice)\n",
    "        if choice == 1:\n",
    "            readAndCreate()\n",
    "            # end choice =1\n",
    "        elif choice == 2:\n",
    "            print(\"In 2\")\n",
    "            # end choice == 2\n",
    "        elif choice == 3:\n",
    "            print(\"In 3\")\n",
    "            # end choice == 3\n",
    "        elif choice == 0:\n",
    "            print(\"Ending program\")\n",
    "            # end choice == 0\n",
    "        else:\n",
    "            print(choice, \"is not a valid choice.\\n\")\n",
    "        # end choice\n",
    "    # end menu\n",
    "menu()"
   ]
  },
  {
   "cell_type": "code",
   "execution_count": null,
   "metadata": {},
   "outputs": [],
   "source": []
  },
  {
   "cell_type": "code",
   "execution_count": null,
   "metadata": {},
   "outputs": [],
   "source": []
  },
  {
   "cell_type": "code",
   "execution_count": null,
   "metadata": {},
   "outputs": [],
   "source": []
  },
  {
   "cell_type": "code",
   "execution_count": null,
   "metadata": {},
   "outputs": [],
   "source": []
  },
  {
   "cell_type": "code",
   "execution_count": 15,
   "metadata": {},
   "outputs": [
    {
     "name": "stdout",
     "output_type": "stream",
     "text": [
      "/Users/veronica/Documents/SearchEngines/SpookyAuthor/SA/CSC849_SpookyAuthor\n",
      "/Users/veronica/Documents/SearchEngines/SpookyAuthor/SA/CSC849_SpookyAuthor/data/Books/EAP/Berenice.txt\n"
     ]
    }
   ],
   "source": [
    "\n",
    "print(os.getcwd())\n",
    "currentBook = \"Berenice.txt\"\n",
    "print(os.path.join(os.getcwd(), \"data\", \"Books\", \"EAP\", currentBook))\n"
   ]
  },
  {
   "cell_type": "markdown",
   "metadata": {},
   "source": [
    "Python path help: https://automatetheboringstuff.com/chapter8/\n",
    "Getting the working directory path: https://stackoverflow.com/questions/3430372/how-to-get-full-path-of-current-files-directory-in-python"
   ]
  }
 ],
 "metadata": {
  "kernelspec": {
   "display_name": "Python 3",
   "language": "python",
   "name": "python3"
  },
  "language_info": {
   "codemirror_mode": {
    "name": "ipython",
    "version": 3
   },
   "file_extension": ".py",
   "mimetype": "text/x-python",
   "name": "python",
   "nbconvert_exporter": "python",
   "pygments_lexer": "ipython3",
   "version": "3.6.7"
  }
 },
 "nbformat": 4,
 "nbformat_minor": 2
}
