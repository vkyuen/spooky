{
 "cells": [
  {
   "cell_type": "markdown",
   "metadata": {},
   "source": [
    "# Basic simplest version\n",
    "In this file, using tf-idf with SVM abd Naive Bayes.  Comparing 50/50 80/20 90/10 data splits.\n",
    "\n",
    "Working with nltk version 3.2.5 and scikit-learn version 0.20.1."
   ]
  },
  {
   "cell_type": "code",
   "execution_count": 1,
   "metadata": {},
   "outputs": [],
   "source": [
    "import nltk\n",
    "import numpy as np\n",
    "import pandas as pd\n",
    "import os\n",
    "\n",
    "from sklearn.model_selection import train_test_split\n",
    "\n",
    "verbose = False"
   ]
  },
  {
   "cell_type": "markdown",
   "metadata": {},
   "source": [
    "\n",
    "Splitting the training.csv into 80/20 split for training and validation.  Further splitting the training set int 80/20 where the 20 will be used to help tune the model. X is the training set, and y is the validation set.  X is then split further into X_train and X_test where X_test will be used for tuning.  \n"
   ]
  },
  {
   "cell_type": "code",
   "execution_count": 2,
   "metadata": {},
   "outputs": [
    {
     "name": "stdout",
     "output_type": "stream",
     "text": [
      "<bound method NDFrame.head of             id                                               text author\n",
      "0      id26305  This process, however, afforded me no means of...    EAP\n",
      "1      id17569  It never once occurred to me that the fumbling...    HPL\n",
      "2      id11008  In his left hand was a gold snuff box, from wh...    EAP\n",
      "3      id27763  How lovely is spring As we looked from Windsor...    MWS\n",
      "4      id12958  Finding nothing else, not even gold, the Super...    HPL\n",
      "5      id22965  A youth passed in solitude, my best years spen...    MWS\n",
      "6      id09674  The astronomer, perhaps, at this point, took r...    EAP\n",
      "7      id13515        The surcingle hung in ribands from my body.    EAP\n",
      "8      id19322  I knew that you could not say to yourself 'ste...    EAP\n",
      "9      id00912  I confess that neither the structure of langua...    MWS\n",
      "10     id16737  He shall find that I can feel my injuries; he ...    MWS\n",
      "11     id16607  Here we barricaded ourselves, and, for the pre...    EAP\n",
      "12     id19764  Herbert West needed fresh bodies because his l...    HPL\n",
      "13     id18886  The farm like grounds extended back very deepl...    HPL\n",
      "14     id17189   But a glance will show the fallacy of this idea.    EAP\n",
      "15     id12799  He had escaped me, and I must commence a destr...    MWS\n",
      "16     id08441  To these speeches they gave, of course, their ...    EAP\n",
      "17     id13117  Her native sprightliness needed no undue excit...    MWS\n",
      "18     id14862  I even went so far as to speak of a slightly h...    EAP\n",
      "19     id20836  His facial aspect, too, was remarkable for its...    HPL\n",
      "20     id11411  Now the net work was not permanently fastened ...    EAP\n",
      "21     id08075  It was not that the sounds were hideous, for t...    HPL\n",
      "22     id18925  On every hand was a wilderness of balconies, o...    EAP\n",
      "23     id19925  With how deep a spirit of wonder and perplexit...    EAP\n",
      "24     id01704  These bizarre attempts at explanation were fol...    EAP\n",
      "25     id10125  For many prodigies and signs had taken place, ...    EAP\n",
      "26     id02448  All that as yet can fairly be said to be known...    EAP\n",
      "27     id23451  I seemed to be upon the verge of comprehension...    EAP\n",
      "28     id27907  Our compasses, depth gauges, and other delicat...    HPL\n",
      "29     id08121  This the young warriors took back with them to...    HPL\n",
      "...        ...                                                ...    ...\n",
      "19549  id20955  But it was not so; I was the same in strength,...    MWS\n",
      "19550  id01270  He then took the book himself, and read me a c...    EAP\n",
      "19551  id22290  \"Adolphe Le Bon, clerk to Mignaud et Fils, dep...    EAP\n",
      "19552  id20272  But of the character of his remarks at the per...    EAP\n",
      "19553  id18082  He notes every variation of face as the play p...    EAP\n",
      "19554  id07976  They admitted they had been drunk, but both vo...    HPL\n",
      "19555  id26741  The rays of the newly risen sun poured in upon...    EAP\n",
      "19556  id26698  To the north on the craggy precipice a few pac...    EAP\n",
      "19557  id22265  The frauds of the banks of course I couldn't h...    EAP\n",
      "19558  id14778  He was attired, as I had expected, in a costum...    EAP\n",
      "19559  id18823  When a fumbling came in the nearer casements h...    HPL\n",
      "19560  id00893  But then there is the tone laconic, or curt, w...    EAP\n",
      "19561  id08678  Average people in society and business New Eng...    HPL\n",
      "19562  id10857  The modes and sources of this kind of error ar...    EAP\n",
      "19563  id10563  Yet from whom has not that rude hand rent away...    MWS\n",
      "19564  id11752  Almighty God no, no They heard they suspected ...    EAP\n",
      "19565  id26214  I hope you have not been so foolish as to take...    EAP\n",
      "19566  id00832  These reflections made our legislators pause, ...    MWS\n",
      "19567  id04187  Because there were some considerations of deep...    EAP\n",
      "19568  id22378  Before going in we walked up the street, turne...    EAP\n",
      "19569  id26790  Once my fancy was soothed with dreams of virtu...    MWS\n",
      "19570  id14263  Nay, you may have met with another whom you ma...    MWS\n",
      "19571  id14420  My watch was still going, and told me that the...    HPL\n",
      "19572  id03325  But these and other difficulties attending res...    EAP\n",
      "19573  id07567  Stress of weather drove us up the Adriatic Gul...    MWS\n",
      "19574  id17718  I could have fancied, while I looked at it, th...    EAP\n",
      "19575  id08973  The lids clenched themselves together as if in...    EAP\n",
      "19576  id05267  Mais il faut agir that is to say, a Frenchman ...    EAP\n",
      "19577  id17513  For an item of news like this, it strikes us i...    EAP\n",
      "19578  id00393  He laid a gnarled claw on my shoulder, and it ...    HPL\n",
      "\n",
      "[19579 rows x 3 columns]>\n"
     ]
    }
   ],
   "source": [
    "currentPath = os.path.join(os.getcwd(), \"data\", \"\")\n",
    "train = pd.read_csv(currentPath + \"train.csv\")\n",
    "print(train.head)\n",
    "\n",
    "#split train\n",
    "X, y = train_test_split(train, test_size = .20)\n",
    "\n",
    "if(verbose):\n",
    "    print( X)\n",
    "    print(\"\\n\\n y: \", y)\n",
    "\n",
    "X_train, X_test = train_test_split(\n",
    "    X, test_size = .20)\n",
    "\n",
    "if(verbose):\n",
    "    print(\"X_train: \", X_train)\n",
    "    print(\"\\n\\nX_test \", X_test)"
   ]
  },
  {
   "cell_type": "markdown",
   "metadata": {},
   "source": [
    "Checking the sets:"
   ]
  },
  {
   "cell_type": "code",
   "execution_count": 3,
   "metadata": {},
   "outputs": [],
   "source": [
    "if(verbose):\n",
    "    print(\"X_train shape: \", X_train.shape)\n",
    "    print(\"X_test shape: \", X_test.shape)\n",
    "    print(\"y shape: \", y.shape)\n",
    "    X_train.head(5)"
   ]
  },
  {
   "cell_type": "markdown",
   "metadata": {},
   "source": [
    "Extracting features, using bag of words model. "
   ]
  },
  {
   "cell_type": "code",
   "execution_count": 4,
   "metadata": {},
   "outputs": [],
   "source": [
    "# for feature extraction\n",
    "from sklearn.feature_extraction.text import CountVectorizer\n",
    "# tf-idf\n",
    "from sklearn.feature_extraction.text import TfidfTransformer\n",
    "# SVM\n",
    "from sklearn.linear_model import SGDClassifier\n",
    "# NB\n",
    "from sklearn.naive_bayes import MultinomialNB\n",
    "# pipeline\n",
    "from sklearn.pipeline import Pipeline"
   ]
  },
  {
   "cell_type": "markdown",
   "metadata": {},
   "source": [
    "### Support Vector Machine"
   ]
  },
  {
   "cell_type": "code",
   "execution_count": 5,
   "metadata": {},
   "outputs": [],
   "source": [
    "# step by step reference, no pipeline\n",
    "\n",
    "# count words\n",
    "count_vect = CountVectorizer()\n",
    "X_train_count = count_vect.fit_transform(X_train.text)\n",
    "X_train_count.shape\n",
    "\n",
    "# tf-idf\n",
    "tfidf_transformer = TfidfTransformer()\n",
    "X_train_tfidf = tfidf_transformer.fit_transform(X_train_count)\n",
    "X_train_tfidf.shape\n",
    "\n",
    "# NB\n",
    "clf = MultinomialNB().fit(X_train_tfidf, X_train.author)"
   ]
  },
  {
   "cell_type": "markdown",
   "metadata": {},
   "source": [
    "## Pipeline\n",
    "Using pipelines to help speed things up"
   ]
  },
  {
   "cell_type": "code",
   "execution_count": 6,
   "metadata": {},
   "outputs": [],
   "source": [
    "svm_clf = Pipeline([(\"vect\", CountVectorizer()),\n",
    "                        (\"tfidf\", TfidfTransformer()),\n",
    "                        (\"clf-svm\", SGDClassifier(loss = \"hinge\", penalty = \"l2\",\n",
    "                                                tol = 1e-3, \n",
    "                                                random_state = 42)),])\n"
   ]
  },
  {
   "cell_type": "markdown",
   "metadata": {},
   "source": [
    "### Multinomial NB"
   ]
  },
  {
   "cell_type": "code",
   "execution_count": 7,
   "metadata": {},
   "outputs": [],
   "source": [
    "nb_clf = Pipeline([(\"vect\", CountVectorizer()),\n",
    "                    (\"tfidf\", TfidfTransformer()),\n",
    "                    (\"clf- nb\", MultinomialNB(),)])\n"
   ]
  },
  {
   "cell_type": "markdown",
   "metadata": {},
   "source": [
    "## Automate pipelines\n",
    "Create lists and a dictionary to help iterate through the fit and predict parts. "
   ]
  },
  {
   "cell_type": "code",
   "execution_count": 8,
   "metadata": {},
   "outputs": [],
   "source": [
    "pipellines = [svm_clf, nb_clf]\n",
    "pipe_dict = {0: \"Support Vector Machine\", 1: \"Naive Bayes\"}"
   ]
  },
  {
   "cell_type": "markdown",
   "metadata": {},
   "source": [
    "## Reference\n",
    "Check nltk and sklearn versions: https://stackoverflow.com/questions/28501072/how-to-check-which-version-of-nltk-scikit-learn-installed\n"
   ]
  }
 ],
 "metadata": {
  "kernelspec": {
   "display_name": "Python 3",
   "language": "python",
   "name": "python3"
  },
  "language_info": {
   "codemirror_mode": {
    "name": "ipython",
    "version": 3
   },
   "file_extension": ".py",
   "mimetype": "text/x-python",
   "name": "python",
   "nbconvert_exporter": "python",
   "pygments_lexer": "ipython3",
   "version": "3.6.7"
  }
 },
 "nbformat": 4,
 "nbformat_minor": 2
}
